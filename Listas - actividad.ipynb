{
 "cells": [
  {
   "cell_type": "markdown",
   "metadata": {},
   "source": [
    "## Listas - Actividad"
   ]
  },
  {
   "cell_type": "markdown",
   "metadata": {},
   "source": [
    "1) Escribe una función que tome una lista de números como argumento y devuelva una nueva lista que contenga solo los números pares."
   ]
  },
  {
   "cell_type": "code",
   "execution_count": 1,
   "metadata": {},
   "outputs": [],
   "source": [
    "def ejercicio_1(numeros):\n",
    "    pares = []\n",
    "    for numero in numeros:\n",
    "        if numero % 2 == 0:\n",
    "            pares.append(numero)\n",
    "    return pares\n"
   ]
  },
  {
   "cell_type": "code",
   "execution_count": 4,
   "metadata": {},
   "outputs": [
    {
     "name": "stdout",
     "output_type": "stream",
     "text": [
      "\u001b[92m✓ Ejercicio correcto!\n"
     ]
    }
   ],
   "source": [
    "# TEST EJERCICIO 1\n",
    "\n",
    "try:\n",
    "    assert ejercicio_1([1, 2, 3, 4, 5, 6, 7, 8, 9]) == [2, 4, 6, 8]\n",
    "    assert ejercicio_1([11, 23, 44, 56, 72, 51, 22, 15]) == [44, 56, 72, 22]\n",
    "    print('\\033[92m' + '✓ Ejercicio correcto!')\n",
    "except AssertionError as e:\n",
    "    print('\\033[91m' + \"x Ejercicio incorrecto\")"
   ]
  },
  {
   "cell_type": "markdown",
   "metadata": {},
   "source": [
    "2) Escribe una función que tome una lista y elimine los elementos duplicados, devolviendo una nueva lista sin duplicados. El orden de los elementos debe mantenerse."
   ]
  },
  {
   "cell_type": "code",
   "execution_count": 2,
   "metadata": {},
   "outputs": [],
   "source": [
    "def ejercicio_2(lista):\n",
    "    duplicados = []\n",
    "    for elementos in lista:\n",
    "        if elementos not in duplicados:\n",
    "            duplicados.append(elementos)\n",
    "    return duplicados\n"
   ]
  },
  {
   "cell_type": "code",
   "execution_count": 6,
   "metadata": {},
   "outputs": [
    {
     "name": "stdout",
     "output_type": "stream",
     "text": [
      "\u001b[92m✓ Ejercicio correcto!\n"
     ]
    }
   ],
   "source": [
    "# TEST EJERCICIO 2\n",
    "\n",
    "try:\n",
    "    assert ejercicio_2([1, 2, 2, 3, 4, 4, 5, 5, 5, 2]) == [1, 2, 3, 4, 5]\n",
    "    assert ejercicio_2([\"Hola\", \"Mundo\", \"Hola\", \"Ejercicio\", \"Dos\", \"Numero\", \"Dos\", \"Dos\"]) == [\"Hola\", \"Mundo\", \"Ejercicio\", \"Dos\", \"Numero\"]\n",
    "    print('\\033[92m' + '✓ Ejercicio correcto!')\n",
    "except AssertionError as e:\n",
    "    print('\\033[91m' + \"x Ejercicio incorrecto\")"
   ]
  },
  {
   "cell_type": "markdown",
   "metadata": {},
   "source": [
    "3) Escribe una función que tome una lista y un elemento como argumentos, y elimine todas las ocurrencias de ese elemento en la lista. Devuelve la lista modificada."
   ]
  },
  {
   "cell_type": "code",
   "execution_count": 5,
   "metadata": {},
   "outputs": [],
   "source": [
    "def ejercicio_3(lista, elemento):\n",
    "   lista_modificada = []\n",
    "\n",
    "   for item in lista:\n",
    "      if item != elemento:\n",
    "         lista_modificada.append(item)\n",
    "   return lista_modificada\n"
   ]
  },
  {
   "cell_type": "code",
   "execution_count": 6,
   "metadata": {},
   "outputs": [
    {
     "name": "stdout",
     "output_type": "stream",
     "text": [
      "\u001b[92m✓ Ejercicio correcto!\n"
     ]
    }
   ],
   "source": [
    "# TEST EJERCICIO 3\n",
    "\n",
    "try:\n",
    "    assert ejercicio_3([1, 2, 3, 4, 2, 5, 2], 2) == [1, 3, 4, 5]\n",
    "    assert ejercicio_3([\"Alfa\", \"Beta\", \"Gamma\", \"Epsilon\", \"Alfa\", \"Alfa\"], \"Alfa\") == [\"Beta\", \"Gamma\", \"Epsilon\"]\n",
    "    print('\\033[92m' + '✓ Ejercicio correcto!')\n",
    "except AssertionError as e:\n",
    "    print('\\033[91m' + \"x Ejercicio incorrecto\")"
   ]
  },
  {
   "cell_type": "markdown",
   "metadata": {},
   "source": [
    "4) Escribe una función que tome una lista de números como argumento y devuelva una nueva lista que contenga solo los números que son mayores que 0 (cero), ordenados de menor a mayor."
   ]
  },
  {
   "cell_type": "code",
   "execution_count": 9,
   "metadata": {},
   "outputs": [],
   "source": [
    "def ejercicio_4(numeros):\n",
    "    numeros_ordenados = []\n",
    "    for item in numeros:\n",
    "        if item > 0:\n",
    "            numeros_ordenados.append(item)\n",
    "    for i in range(len(numeros_ordenados)):\n",
    "        for j in range(i + 1,len(numeros_ordenados)):\n",
    "            if numeros_ordenados[i] > numeros_ordenados[j]:\n",
    "                numeros_ordenados[i],numeros_ordenados[j] = numeros_ordenados[j], numeros_ordenados[i]\n",
    "    return numeros_ordenados"
   ]
  },
  {
   "cell_type": "code",
   "execution_count": 10,
   "metadata": {},
   "outputs": [
    {
     "name": "stdout",
     "output_type": "stream",
     "text": [
      "\u001b[92m✓ Ejercicio correcto!\n"
     ]
    }
   ],
   "source": [
    "# TEST EJERCICIO 4\n",
    "\n",
    "try:\n",
    "    assert ejercicio_4([-3, 5, 1, 0, -1, 8, 2, 4, 3, 6]) == [1, 2, 3, 4, 5, 6, 8]\n",
    "    print('\\033[92m' + '✓ Ejercicio correcto!')\n",
    "except AssertionError as e:\n",
    "    print('\\033[91m' + \"x Ejercicio incorrecto\")"
   ]
  },
  {
   "cell_type": "markdown",
   "metadata": {},
   "source": [
    "5) Crear una función que cuente la cantidad de veces que se repite cada elemento de una lista. Devolver un diccionario con los elementos y sus repeticiones.\n",
    "\n",
    "> Consejo: Usar el método `count` de las listas y listas por comprensión."
   ]
  },
  {
   "cell_type": "code",
   "execution_count": 2,
   "metadata": {},
   "outputs": [],
   "source": [
    "def ejercicio_5(lista):\n",
    "    conteos = {elemento: lista.count(elemento) for elemento in lista}\n",
    "    return conteos\n",
    "\n"
   ]
  },
  {
   "cell_type": "code",
   "execution_count": 3,
   "metadata": {},
   "outputs": [
    {
     "name": "stdout",
     "output_type": "stream",
     "text": [
      "\u001b[92m✓ Ejercicio correcto!\n"
     ]
    }
   ],
   "source": [
    "# TEST EJERCICIO 5\n",
    "\n",
    "try:\n",
    "    assert ejercicio_5([\"Hola\", \"Hola\", \"Mundo\", \"Hola\", \"Palabra\", \"Curso\", \"Curso\"]) == {\"Hola\": 3, \"Mundo\": 1, \"Palabra\": 1, \"Curso\": 2}\n",
    "    print('\\033[92m' + '✓ Ejercicio correcto!')\n",
    "except AssertionError as e:\n",
    "    print('\\033[91m' + \"x Ejercicio incorrecto\")\n"
   ]
  },
  {
   "cell_type": "markdown",
   "metadata": {},
   "source": [
    "6) Escribe una función que tome un número entero positivo n como argumento y devuelva una lista de los primeros n números primos.\n",
    "\n",
    "> Nota: Un número primo es un número natural mayor que 1 que es divisible únicamente por 1 y por sí mismo."
   ]
  },
  {
   "cell_type": "code",
   "execution_count": 4,
   "metadata": {},
   "outputs": [],
   "source": [
    "def ejercicio_6(n):\n",
    "    numeros_primos = []\n",
    "    numero = 2\n",
    "    while len(numeros_primos) < n:\n",
    "        es_primo = True\n",
    "        for i in range(2,int(numero ** 0.5) + 1 ):\n",
    "            if numero % i == 0: \n",
    "                numeros_primos = False\n",
    "                break\n",
    "        if numeros_primos:\n",
    "            numeros_primos.append(numero)\n",
    "        numero += 1\n",
    "    return numeros_primos"
   ]
  },
  {
   "cell_type": "code",
   "execution_count": 6,
   "metadata": {},
   "outputs": [
    {
     "ename": "TypeError",
     "evalue": "object of type 'bool' has no len()",
     "output_type": "error",
     "traceback": [
      "\u001b[1;31m---------------------------------------------------------------------------\u001b[0m",
      "\u001b[1;31mTypeError\u001b[0m                                 Traceback (most recent call last)",
      "Cell \u001b[1;32mIn[6], line 4\u001b[0m\n\u001b[0;32m      1\u001b[0m \u001b[38;5;66;03m# TEST EJERCICIO 6\u001b[39;00m\n\u001b[0;32m      3\u001b[0m \u001b[38;5;28;01mtry\u001b[39;00m:\n\u001b[1;32m----> 4\u001b[0m     \u001b[38;5;28;01massert\u001b[39;00m \u001b[43mejercicio_6\u001b[49m\u001b[43m(\u001b[49m\u001b[38;5;241;43m20\u001b[39;49m\u001b[43m)\u001b[49m \u001b[38;5;241m==\u001b[39m [\u001b[38;5;241m2\u001b[39m, \u001b[38;5;241m3\u001b[39m, \u001b[38;5;241m5\u001b[39m, \u001b[38;5;241m7\u001b[39m, \u001b[38;5;241m11\u001b[39m, \u001b[38;5;241m13\u001b[39m, \u001b[38;5;241m17\u001b[39m, \u001b[38;5;241m19\u001b[39m]\n\u001b[0;32m      5\u001b[0m     \u001b[38;5;28;01massert\u001b[39;00m ejercicio_6(\u001b[38;5;241m10\u001b[39m) \u001b[38;5;241m==\u001b[39m [\u001b[38;5;241m2\u001b[39m, \u001b[38;5;241m3\u001b[39m, \u001b[38;5;241m5\u001b[39m, \u001b[38;5;241m7\u001b[39m]\n\u001b[0;32m      6\u001b[0m     \u001b[38;5;28mprint\u001b[39m(\u001b[38;5;124m'\u001b[39m\u001b[38;5;130;01m\\033\u001b[39;00m\u001b[38;5;124m[92m\u001b[39m\u001b[38;5;124m'\u001b[39m \u001b[38;5;241m+\u001b[39m \u001b[38;5;124m'\u001b[39m\u001b[38;5;124m✓ Ejercicio correcto!\u001b[39m\u001b[38;5;124m'\u001b[39m)\n",
      "Cell \u001b[1;32mIn[4], line 4\u001b[0m, in \u001b[0;36mejercicio_6\u001b[1;34m(n)\u001b[0m\n\u001b[0;32m      2\u001b[0m numeros_primos \u001b[38;5;241m=\u001b[39m []\n\u001b[0;32m      3\u001b[0m numero \u001b[38;5;241m=\u001b[39m \u001b[38;5;241m2\u001b[39m\n\u001b[1;32m----> 4\u001b[0m \u001b[38;5;28;01mwhile\u001b[39;00m \u001b[38;5;28;43mlen\u001b[39;49m\u001b[43m(\u001b[49m\u001b[43mnumeros_primos\u001b[49m\u001b[43m)\u001b[49m \u001b[38;5;241m<\u001b[39m n:\n\u001b[0;32m      5\u001b[0m     es_primo \u001b[38;5;241m=\u001b[39m \u001b[38;5;28;01mTrue\u001b[39;00m\n\u001b[0;32m      6\u001b[0m     \u001b[38;5;28;01mfor\u001b[39;00m i \u001b[38;5;129;01min\u001b[39;00m \u001b[38;5;28mrange\u001b[39m(\u001b[38;5;241m2\u001b[39m,\u001b[38;5;28mint\u001b[39m(numero \u001b[38;5;241m*\u001b[39m\u001b[38;5;241m*\u001b[39m \u001b[38;5;241m0.5\u001b[39m) \u001b[38;5;241m+\u001b[39m \u001b[38;5;241m1\u001b[39m ):\n",
      "\u001b[1;31mTypeError\u001b[0m: object of type 'bool' has no len()"
     ]
    }
   ],
   "source": [
    "# TEST EJERCICIO 6\n",
    "\n",
    "try:\n",
    "    assert ejercicio_6(20) == [2, 3, 5, 7, 11, 13, 17, 19]\n",
    "    assert ejercicio_6(10) == [2, 3, 5, 7]\n",
    "    print('\\033[92m' + '✓ Ejercicio correcto!')\n",
    "except AssertionError as e:\n",
    "    print('\\033[91m' + \"x Ejercicio incorrecto\")"
   ]
  },
  {
   "cell_type": "markdown",
   "metadata": {},
   "source": [
    "7) Escribe una función que tome una lista de números como argumento y devuelva `True` si la lista está ordenada en orden descendente y `False` en caso contrario."
   ]
  },
  {
   "cell_type": "code",
   "execution_count": 10,
   "metadata": {},
   "outputs": [],
   "source": [
    "def ejercicio_7(numeros):\n",
    "    return numeros == sorted(numeros,reverse=True)\n"
   ]
  },
  {
   "cell_type": "code",
   "execution_count": 11,
   "metadata": {},
   "outputs": [
    {
     "name": "stdout",
     "output_type": "stream",
     "text": [
      "\u001b[92m✓ Ejercicio correcto!\n"
     ]
    }
   ],
   "source": [
    "# TEST EJERCICIO 7\n",
    "\n",
    "try:\n",
    "    assert ejercicio_7([4, 7, 11, 3, 1, 0, 8, 14, 25]) == False\n",
    "    assert ejercicio_7([1, 2, 3, 4, 5, 6, 7, 8, 9]) == False\n",
    "    assert ejercicio_7([11, 9, 6, 3, 1]) == True\n",
    "    print('\\033[92m' + '✓ Ejercicio correcto!')\n",
    "except AssertionError as e:\n",
    "    print('\\033[91m' + \"x Ejercicio incorrecto\")"
   ]
  }
 ],
 "metadata": {
  "kernelspec": {
   "display_name": "Python 3",
   "language": "python",
   "name": "python3"
  },
  "language_info": {
   "codemirror_mode": {
    "name": "ipython",
    "version": 3
   },
   "file_extension": ".py",
   "mimetype": "text/x-python",
   "name": "python",
   "nbconvert_exporter": "python",
   "pygments_lexer": "ipython3",
   "version": "3.12.1"
  }
 },
 "nbformat": 4,
 "nbformat_minor": 2
}
